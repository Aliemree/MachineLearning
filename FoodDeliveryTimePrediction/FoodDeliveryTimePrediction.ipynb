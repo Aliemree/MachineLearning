{
  "nbformat": 4,
  "nbformat_minor": 0,
  "metadata": {
    "colab": {
      "provenance": []
    },
    "kernelspec": {
      "name": "python3",
      "display_name": "Python 3"
    },
    "language_info": {
      "name": "python"
    }
  },
  "cells": [
    {
      "cell_type": "code",
      "execution_count": 1,
      "metadata": {
        "id": "oEoHvG7dBiGV",
        "colab": {
          "base_uri": "https://localhost:8080/"
        },
        "outputId": "b7cdadd3-8c4b-4978-c935-279dc643304d"
      },
      "outputs": [
        {
          "output_type": "stream",
          "name": "stdout",
          "text": [
            "Mounted at /content/drive\n"
          ]
        }
      ],
      "source": [
        "from google.colab import drive\n",
        "drive.mount('/content/drive')"
      ]
    },
    {
      "cell_type": "code",
      "source": [
        "import pandas as pd\n",
        "import numpy as np\n",
        "import matplotlib.pyplot as plt\n",
        "import seaborn as sns\n",
        "import plotly.express as px\n",
        "\n",
        "\n",
        "file_path = \"/content/drive/MyDrive/Colab Notebooks/299PyhtonProject/Delivery time/deliverytime.txt\"\n",
        "try:\n",
        "    data = pd.read_csv(file_path)\n",
        "    print(\"Veri kümesi başarıyla yüklendi. İlk birkaç satır:\")\n",
        "    print(data.head())  # İlk 5 satırı gösterir\n",
        "except FileNotFoundError:\n",
        "    print(f\"Belirtilen dosya yolunda dosya bulunamadı: {file_path}\")\n",
        "except Exception as e:\n",
        "    print(f\"Beklenmeyen bir hata oluştu: {e}\")"
      ],
      "metadata": {
        "colab": {
          "base_uri": "https://localhost:8080/"
        },
        "id": "4eJmX496IULV",
        "outputId": "7c26f1a5-cd8d-4ab6-9c42-e80cbc971355"
      },
      "execution_count": 10,
      "outputs": [
        {
          "output_type": "stream",
          "name": "stdout",
          "text": [
            "Veri kümesi başarıyla yüklendi. İlk birkaç satır:\n",
            "     ID Delivery_person_ID  Delivery_person_Age  Delivery_person_Ratings  \\\n",
            "0  4607     INDORES13DEL02                   37                      4.9   \n",
            "1  B379     BANGRES18DEL02                   34                      4.5   \n",
            "2  5D6D     BANGRES19DEL01                   23                      4.4   \n",
            "3  7A6A    COIMBRES13DEL02                   38                      4.7   \n",
            "4  70A2     CHENRES12DEL01                   32                      4.6   \n",
            "\n",
            "   Restaurant_latitude  Restaurant_longitude  Delivery_location_latitude  \\\n",
            "0            22.745049             75.892471                   22.765049   \n",
            "1            12.913041             77.683237                   13.043041   \n",
            "2            12.914264             77.678400                   12.924264   \n",
            "3            11.003669             76.976494                   11.053669   \n",
            "4            12.972793             80.249982                   13.012793   \n",
            "\n",
            "   Delivery_location_longitude Type_of_order Type_of_vehicle  Time_taken(min)  \n",
            "0                    75.912471        Snack      motorcycle                24  \n",
            "1                    77.813237        Snack         scooter                33  \n",
            "2                    77.688400       Drinks      motorcycle                26  \n",
            "3                    77.026494       Buffet      motorcycle                21  \n",
            "4                    80.289982        Snack         scooter                30  \n"
          ]
        }
      ]
    },
    {
      "cell_type": "code",
      "source": [
        "data.info()"
      ],
      "metadata": {
        "colab": {
          "base_uri": "https://localhost:8080/"
        },
        "id": "etjWHcABIwBY",
        "outputId": "10bdbd71-57ec-40d0-b591-111851493da5"
      },
      "execution_count": 11,
      "outputs": [
        {
          "output_type": "stream",
          "name": "stdout",
          "text": [
            "<class 'pandas.core.frame.DataFrame'>\n",
            "RangeIndex: 45593 entries, 0 to 45592\n",
            "Data columns (total 11 columns):\n",
            " #   Column                       Non-Null Count  Dtype  \n",
            "---  ------                       --------------  -----  \n",
            " 0   ID                           45593 non-null  object \n",
            " 1   Delivery_person_ID           45593 non-null  object \n",
            " 2   Delivery_person_Age          45593 non-null  int64  \n",
            " 3   Delivery_person_Ratings      45593 non-null  float64\n",
            " 4   Restaurant_latitude          45593 non-null  float64\n",
            " 5   Restaurant_longitude         45593 non-null  float64\n",
            " 6   Delivery_location_latitude   45593 non-null  float64\n",
            " 7   Delivery_location_longitude  45593 non-null  float64\n",
            " 8   Type_of_order                45593 non-null  object \n",
            " 9   Type_of_vehicle              45593 non-null  object \n",
            " 10  Time_taken(min)              45593 non-null  int64  \n",
            "dtypes: float64(5), int64(2), object(4)\n",
            "memory usage: 3.8+ MB\n"
          ]
        }
      ]
    },
    {
      "cell_type": "code",
      "source": [
        "data.isnull().sum()"
      ],
      "metadata": {
        "colab": {
          "base_uri": "https://localhost:8080/",
          "height": 429
        },
        "id": "1GquCHRUIwY_",
        "outputId": "e735eb35-4227-470d-a69b-3b0b07d852e1"
      },
      "execution_count": 12,
      "outputs": [
        {
          "output_type": "execute_result",
          "data": {
            "text/plain": [
              "ID                             0\n",
              "Delivery_person_ID             0\n",
              "Delivery_person_Age            0\n",
              "Delivery_person_Ratings        0\n",
              "Restaurant_latitude            0\n",
              "Restaurant_longitude           0\n",
              "Delivery_location_latitude     0\n",
              "Delivery_location_longitude    0\n",
              "Type_of_order                  0\n",
              "Type_of_vehicle                0\n",
              "Time_taken(min)                0\n",
              "dtype: int64"
            ],
            "text/html": [
              "<div>\n",
              "<style scoped>\n",
              "    .dataframe tbody tr th:only-of-type {\n",
              "        vertical-align: middle;\n",
              "    }\n",
              "\n",
              "    .dataframe tbody tr th {\n",
              "        vertical-align: top;\n",
              "    }\n",
              "\n",
              "    .dataframe thead th {\n",
              "        text-align: right;\n",
              "    }\n",
              "</style>\n",
              "<table border=\"1\" class=\"dataframe\">\n",
              "  <thead>\n",
              "    <tr style=\"text-align: right;\">\n",
              "      <th></th>\n",
              "      <th>0</th>\n",
              "    </tr>\n",
              "  </thead>\n",
              "  <tbody>\n",
              "    <tr>\n",
              "      <th>ID</th>\n",
              "      <td>0</td>\n",
              "    </tr>\n",
              "    <tr>\n",
              "      <th>Delivery_person_ID</th>\n",
              "      <td>0</td>\n",
              "    </tr>\n",
              "    <tr>\n",
              "      <th>Delivery_person_Age</th>\n",
              "      <td>0</td>\n",
              "    </tr>\n",
              "    <tr>\n",
              "      <th>Delivery_person_Ratings</th>\n",
              "      <td>0</td>\n",
              "    </tr>\n",
              "    <tr>\n",
              "      <th>Restaurant_latitude</th>\n",
              "      <td>0</td>\n",
              "    </tr>\n",
              "    <tr>\n",
              "      <th>Restaurant_longitude</th>\n",
              "      <td>0</td>\n",
              "    </tr>\n",
              "    <tr>\n",
              "      <th>Delivery_location_latitude</th>\n",
              "      <td>0</td>\n",
              "    </tr>\n",
              "    <tr>\n",
              "      <th>Delivery_location_longitude</th>\n",
              "      <td>0</td>\n",
              "    </tr>\n",
              "    <tr>\n",
              "      <th>Type_of_order</th>\n",
              "      <td>0</td>\n",
              "    </tr>\n",
              "    <tr>\n",
              "      <th>Type_of_vehicle</th>\n",
              "      <td>0</td>\n",
              "    </tr>\n",
              "    <tr>\n",
              "      <th>Time_taken(min)</th>\n",
              "      <td>0</td>\n",
              "    </tr>\n",
              "  </tbody>\n",
              "</table>\n",
              "</div><br><label><b>dtype:</b> int64</label>"
            ]
          },
          "metadata": {},
          "execution_count": 12
        }
      ]
    },
    {
      "cell_type": "markdown",
      "source": [
        "Calculating Distance Between Two Latitudes and Longitudes\n"
      ],
      "metadata": {
        "id": "hqvxGtiII5TH"
      }
    },
    {
      "cell_type": "code",
      "source": [
        "# Set the earth's radius (in kilometers)\n",
        "R = 6371\n",
        "\n",
        "# Convert degrees to radians\n",
        "def deg_to_rad(degrees):\n",
        "    return degrees * (np.pi/180)\n",
        "\n",
        "# Function to calculate the distance between two points using the haversine formula\n",
        "def distcalculate(lat1, lon1, lat2, lon2):\n",
        "    d_lat = deg_to_rad(lat2-lat1)\n",
        "    d_lon = deg_to_rad(lon2-lon1)\n",
        "    a = np.sin(d_lat/2)**2 + np.cos(deg_to_rad(lat1)) * np.cos(deg_to_rad(lat2)) * np.sin(d_lon/2)**2\n",
        "    c = 2 * np.arctan2(np.sqrt(a), np.sqrt(1-a))\n",
        "    return R * c\n",
        "\n",
        "# Calculate the distance between each pair of points\n",
        "data['distance'] = np.nan\n",
        "\n",
        "for i in range(len(data)):\n",
        "    data.loc[i, 'distance'] = distcalculate(data.loc[i, 'Restaurant_latitude'],\n",
        "                                        data.loc[i, 'Restaurant_longitude'],\n",
        "                                        data.loc[i, 'Delivery_location_latitude'],\n",
        "                                        data.loc[i, 'Delivery_location_longitude'])"
      ],
      "metadata": {
        "id": "zC7VSQdqI5uR"
      },
      "execution_count": 13,
      "outputs": []
    },
    {
      "cell_type": "code",
      "source": [
        "print(data.head())"
      ],
      "metadata": {
        "colab": {
          "base_uri": "https://localhost:8080/"
        },
        "id": "QR0LVLixJBy3",
        "outputId": "9d458393-15a8-4ed7-8949-35c9593496f2"
      },
      "execution_count": 14,
      "outputs": [
        {
          "output_type": "stream",
          "name": "stdout",
          "text": [
            "     ID Delivery_person_ID  Delivery_person_Age  Delivery_person_Ratings  \\\n",
            "0  4607     INDORES13DEL02                   37                      4.9   \n",
            "1  B379     BANGRES18DEL02                   34                      4.5   \n",
            "2  5D6D     BANGRES19DEL01                   23                      4.4   \n",
            "3  7A6A    COIMBRES13DEL02                   38                      4.7   \n",
            "4  70A2     CHENRES12DEL01                   32                      4.6   \n",
            "\n",
            "   Restaurant_latitude  Restaurant_longitude  Delivery_location_latitude  \\\n",
            "0            22.745049             75.892471                   22.765049   \n",
            "1            12.913041             77.683237                   13.043041   \n",
            "2            12.914264             77.678400                   12.924264   \n",
            "3            11.003669             76.976494                   11.053669   \n",
            "4            12.972793             80.249982                   13.012793   \n",
            "\n",
            "   Delivery_location_longitude Type_of_order Type_of_vehicle  Time_taken(min)  \\\n",
            "0                    75.912471        Snack      motorcycle                24   \n",
            "1                    77.813237        Snack         scooter                33   \n",
            "2                    77.688400       Drinks      motorcycle                26   \n",
            "3                    77.026494       Buffet      motorcycle                21   \n",
            "4                    80.289982        Snack         scooter                30   \n",
            "\n",
            "    distance  \n",
            "0   3.025149  \n",
            "1  20.183530  \n",
            "2   1.552758  \n",
            "3   7.790401  \n",
            "4   6.210138  \n"
          ]
        }
      ]
    },
    {
      "cell_type": "code",
      "source": [
        "#splitting data\n",
        "from sklearn.model_selection import train_test_split\n",
        "x = np.array(data[[\"Delivery_person_Age\",\n",
        "                   \"Delivery_person_Ratings\",\n",
        "                   \"distance\"]])\n",
        "y = np.array(data[[\"Time_taken(min)\"]])\n",
        "xtrain, xtest, ytrain, ytest = train_test_split(x, y,\n",
        "                                                test_size=0.10,\n",
        "                                                random_state=42)\n",
        "\n",
        "# creating the LSTM neural network model\n",
        "from keras.models import Sequential\n",
        "from keras.layers import Dense, LSTM\n",
        "model = Sequential()\n",
        "model.add(LSTM(128, return_sequences=True, input_shape= (xtrain.shape[1], 1)))\n",
        "model.add(LSTM(64, return_sequences=False))\n",
        "model.add(Dense(25))\n",
        "model.add(Dense(1))\n",
        "model.summary()"
      ],
      "metadata": {
        "colab": {
          "base_uri": "https://localhost:8080/",
          "height": 320
        },
        "id": "6XnOT9nNJKyn",
        "outputId": "27585feb-5bd3-4679-89ab-cf9bda168cc0"
      },
      "execution_count": 15,
      "outputs": [
        {
          "output_type": "stream",
          "name": "stderr",
          "text": [
            "/usr/local/lib/python3.10/dist-packages/keras/src/layers/rnn/rnn.py:204: UserWarning: Do not pass an `input_shape`/`input_dim` argument to a layer. When using Sequential models, prefer using an `Input(shape)` object as the first layer in the model instead.\n",
            "  super().__init__(**kwargs)\n"
          ]
        },
        {
          "output_type": "display_data",
          "data": {
            "text/plain": [
              "\u001b[1mModel: \"sequential\"\u001b[0m\n"
            ],
            "text/html": [
              "<pre style=\"white-space:pre;overflow-x:auto;line-height:normal;font-family:Menlo,'DejaVu Sans Mono',consolas,'Courier New',monospace\"><span style=\"font-weight: bold\">Model: \"sequential\"</span>\n",
              "</pre>\n"
            ]
          },
          "metadata": {}
        },
        {
          "output_type": "display_data",
          "data": {
            "text/plain": [
              "┏━━━━━━━━━━━━━━━━━━━━━━━━━━━━━━━━━━━━━━┳━━━━━━━━━━━━━━━━━━━━━━━━━━━━━┳━━━━━━━━━━━━━━━━━┓\n",
              "┃\u001b[1m \u001b[0m\u001b[1mLayer (type)                        \u001b[0m\u001b[1m \u001b[0m┃\u001b[1m \u001b[0m\u001b[1mOutput Shape               \u001b[0m\u001b[1m \u001b[0m┃\u001b[1m \u001b[0m\u001b[1m        Param #\u001b[0m\u001b[1m \u001b[0m┃\n",
              "┡━━━━━━━━━━━━━━━━━━━━━━━━━━━━━━━━━━━━━━╇━━━━━━━━━━━━━━━━━━━━━━━━━━━━━╇━━━━━━━━━━━━━━━━━┩\n",
              "│ lstm (\u001b[38;5;33mLSTM\u001b[0m)                          │ (\u001b[38;5;45mNone\u001b[0m, \u001b[38;5;34m3\u001b[0m, \u001b[38;5;34m128\u001b[0m)              │          \u001b[38;5;34m66,560\u001b[0m │\n",
              "├──────────────────────────────────────┼─────────────────────────────┼─────────────────┤\n",
              "│ lstm_1 (\u001b[38;5;33mLSTM\u001b[0m)                        │ (\u001b[38;5;45mNone\u001b[0m, \u001b[38;5;34m64\u001b[0m)                  │          \u001b[38;5;34m49,408\u001b[0m │\n",
              "├──────────────────────────────────────┼─────────────────────────────┼─────────────────┤\n",
              "│ dense (\u001b[38;5;33mDense\u001b[0m)                        │ (\u001b[38;5;45mNone\u001b[0m, \u001b[38;5;34m25\u001b[0m)                  │           \u001b[38;5;34m1,625\u001b[0m │\n",
              "├──────────────────────────────────────┼─────────────────────────────┼─────────────────┤\n",
              "│ dense_1 (\u001b[38;5;33mDense\u001b[0m)                      │ (\u001b[38;5;45mNone\u001b[0m, \u001b[38;5;34m1\u001b[0m)                   │              \u001b[38;5;34m26\u001b[0m │\n",
              "└──────────────────────────────────────┴─────────────────────────────┴─────────────────┘\n"
            ],
            "text/html": [
              "<pre style=\"white-space:pre;overflow-x:auto;line-height:normal;font-family:Menlo,'DejaVu Sans Mono',consolas,'Courier New',monospace\">┏━━━━━━━━━━━━━━━━━━━━━━━━━━━━━━━━━━━━━━┳━━━━━━━━━━━━━━━━━━━━━━━━━━━━━┳━━━━━━━━━━━━━━━━━┓\n",
              "┃<span style=\"font-weight: bold\"> Layer (type)                         </span>┃<span style=\"font-weight: bold\"> Output Shape                </span>┃<span style=\"font-weight: bold\">         Param # </span>┃\n",
              "┡━━━━━━━━━━━━━━━━━━━━━━━━━━━━━━━━━━━━━━╇━━━━━━━━━━━━━━━━━━━━━━━━━━━━━╇━━━━━━━━━━━━━━━━━┩\n",
              "│ lstm (<span style=\"color: #0087ff; text-decoration-color: #0087ff\">LSTM</span>)                          │ (<span style=\"color: #00d7ff; text-decoration-color: #00d7ff\">None</span>, <span style=\"color: #00af00; text-decoration-color: #00af00\">3</span>, <span style=\"color: #00af00; text-decoration-color: #00af00\">128</span>)              │          <span style=\"color: #00af00; text-decoration-color: #00af00\">66,560</span> │\n",
              "├──────────────────────────────────────┼─────────────────────────────┼─────────────────┤\n",
              "│ lstm_1 (<span style=\"color: #0087ff; text-decoration-color: #0087ff\">LSTM</span>)                        │ (<span style=\"color: #00d7ff; text-decoration-color: #00d7ff\">None</span>, <span style=\"color: #00af00; text-decoration-color: #00af00\">64</span>)                  │          <span style=\"color: #00af00; text-decoration-color: #00af00\">49,408</span> │\n",
              "├──────────────────────────────────────┼─────────────────────────────┼─────────────────┤\n",
              "│ dense (<span style=\"color: #0087ff; text-decoration-color: #0087ff\">Dense</span>)                        │ (<span style=\"color: #00d7ff; text-decoration-color: #00d7ff\">None</span>, <span style=\"color: #00af00; text-decoration-color: #00af00\">25</span>)                  │           <span style=\"color: #00af00; text-decoration-color: #00af00\">1,625</span> │\n",
              "├──────────────────────────────────────┼─────────────────────────────┼─────────────────┤\n",
              "│ dense_1 (<span style=\"color: #0087ff; text-decoration-color: #0087ff\">Dense</span>)                      │ (<span style=\"color: #00d7ff; text-decoration-color: #00d7ff\">None</span>, <span style=\"color: #00af00; text-decoration-color: #00af00\">1</span>)                   │              <span style=\"color: #00af00; text-decoration-color: #00af00\">26</span> │\n",
              "└──────────────────────────────────────┴─────────────────────────────┴─────────────────┘\n",
              "</pre>\n"
            ]
          },
          "metadata": {}
        },
        {
          "output_type": "display_data",
          "data": {
            "text/plain": [
              "\u001b[1m Total params: \u001b[0m\u001b[38;5;34m117,619\u001b[0m (459.45 KB)\n"
            ],
            "text/html": [
              "<pre style=\"white-space:pre;overflow-x:auto;line-height:normal;font-family:Menlo,'DejaVu Sans Mono',consolas,'Courier New',monospace\"><span style=\"font-weight: bold\"> Total params: </span><span style=\"color: #00af00; text-decoration-color: #00af00\">117,619</span> (459.45 KB)\n",
              "</pre>\n"
            ]
          },
          "metadata": {}
        },
        {
          "output_type": "display_data",
          "data": {
            "text/plain": [
              "\u001b[1m Trainable params: \u001b[0m\u001b[38;5;34m117,619\u001b[0m (459.45 KB)\n"
            ],
            "text/html": [
              "<pre style=\"white-space:pre;overflow-x:auto;line-height:normal;font-family:Menlo,'DejaVu Sans Mono',consolas,'Courier New',monospace\"><span style=\"font-weight: bold\"> Trainable params: </span><span style=\"color: #00af00; text-decoration-color: #00af00\">117,619</span> (459.45 KB)\n",
              "</pre>\n"
            ]
          },
          "metadata": {}
        },
        {
          "output_type": "display_data",
          "data": {
            "text/plain": [
              "\u001b[1m Non-trainable params: \u001b[0m\u001b[38;5;34m0\u001b[0m (0.00 B)\n"
            ],
            "text/html": [
              "<pre style=\"white-space:pre;overflow-x:auto;line-height:normal;font-family:Menlo,'DejaVu Sans Mono',consolas,'Courier New',monospace\"><span style=\"font-weight: bold\"> Non-trainable params: </span><span style=\"color: #00af00; text-decoration-color: #00af00\">0</span> (0.00 B)\n",
              "</pre>\n"
            ]
          },
          "metadata": {}
        }
      ]
    },
    {
      "cell_type": "code",
      "source": [
        "# training the model\n",
        "model.compile(optimizer='adam', loss='mean_squared_error')\n",
        "model.fit(xtrain, ytrain, batch_size=1, epochs=3)"
      ],
      "metadata": {
        "colab": {
          "base_uri": "https://localhost:8080/"
        },
        "id": "IWLrL-UmJLf9",
        "outputId": "d2d4cae3-0028-4c9b-f18a-f42984ac5093"
      },
      "execution_count": 16,
      "outputs": [
        {
          "output_type": "stream",
          "name": "stdout",
          "text": [
            "Epoch 1/3\n",
            "\u001b[1m41033/41033\u001b[0m \u001b[32m━━━━━━━━━━━━━━━━━━━━\u001b[0m\u001b[37m\u001b[0m \u001b[1m262s\u001b[0m 6ms/step - loss: 75.9121\n",
            "Epoch 2/3\n",
            "\u001b[1m41033/41033\u001b[0m \u001b[32m━━━━━━━━━━━━━━━━━━━━\u001b[0m\u001b[37m\u001b[0m \u001b[1m265s\u001b[0m 6ms/step - loss: 64.6071\n",
            "Epoch 3/3\n",
            "\u001b[1m41033/41033\u001b[0m \u001b[32m━━━━━━━━━━━━━━━━━━━━\u001b[0m\u001b[37m\u001b[0m \u001b[1m312s\u001b[0m 6ms/step - loss: 61.7148\n"
          ]
        },
        {
          "output_type": "execute_result",
          "data": {
            "text/plain": [
              "<keras.src.callbacks.history.History at 0x7a22ae557640>"
            ]
          },
          "metadata": {},
          "execution_count": 16
        }
      ]
    },
    {
      "cell_type": "code",
      "source": [
        "import numpy as np\n",
        "\n",
        "print(\"Yemek Teslimat Süresi Tahmini\")\n",
        "a = int(input(\"Teslimat Görevlisinin Yaşı: \"))\n",
        "b = float(input(\"Önceki Teslimatların Puanı: \"))\n",
        "c = int(input(\"Toplam Mesafe (km): \"))\n",
        "\n",
        "features = np.array([[a, b, c]])\n",
        "print(\"Tahmini Teslimat Süresi (Dakika): \", model.predict(features))"
      ],
      "metadata": {
        "colab": {
          "base_uri": "https://localhost:8080/"
        },
        "id": "_wdUgT5wJPsP",
        "outputId": "fed379c6-419b-418e-d21b-068db0655060"
      },
      "execution_count": 17,
      "outputs": [
        {
          "output_type": "stream",
          "name": "stdout",
          "text": [
            "Yemek Teslimat Süresi Tahmini\n",
            "Teslimat Görevlisinin Yaşı: 29\n",
            "Önceki Teslimatların Puanı: 3\n",
            "Toplam Mesafe (km): 6\n",
            "\u001b[1m1/1\u001b[0m \u001b[32m━━━━━━━━━━━━━━━━━━━━\u001b[0m\u001b[37m\u001b[0m \u001b[1m0s\u001b[0m 290ms/step\n",
            "Tahmini Teslimat Süresi (Dakika):  [[36.33702]]\n"
          ]
        }
      ]
    }
  ]
}